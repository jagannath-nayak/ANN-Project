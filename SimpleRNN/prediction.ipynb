{
 "cells": [
  {
   "cell_type": "code",
   "execution_count": 1,
   "id": "296d457c",
   "metadata": {},
   "outputs": [],
   "source": [
    "import numpy as np\n",
    "import tensorflow as tf\n",
    "from tensorflow.keras.datasets import imdb\n",
    "from tensorflow.keras.preprocessing import sequence\n",
    "from tensorflow.keras.models import load_model\n"
   ]
  },
  {
   "cell_type": "code",
   "execution_count": 2,
   "id": "c310bc6f",
   "metadata": {},
   "outputs": [],
   "source": [
    "# load the IMDB dataset word index\n",
    "word_index = imdb.get_word_index()\n",
    "reverse_word_index = {value : key for key, value in word_index.items()}"
   ]
  },
  {
   "cell_type": "code",
   "execution_count": 4,
   "id": "47a7c62a",
   "metadata": {},
   "outputs": [
    {
     "name": "stderr",
     "output_type": "stream",
     "text": [
      "WARNING:absl:Compiled the loaded model, but the compiled metrics have yet to be built. `model.compile_metrics` will be empty until you train or evaluate the model.\n"
     ]
    },
    {
     "data": {
      "text/html": [
       "<pre style=\"white-space:pre;overflow-x:auto;line-height:normal;font-family:Menlo,'DejaVu Sans Mono',consolas,'Courier New',monospace\"><span style=\"font-weight: bold\">Model: \"sequential_2\"</span>\n",
       "</pre>\n"
      ],
      "text/plain": [
       "\u001b[1mModel: \"sequential_2\"\u001b[0m\n"
      ]
     },
     "metadata": {},
     "output_type": "display_data"
    },
    {
     "data": {
      "text/html": [
       "<pre style=\"white-space:pre;overflow-x:auto;line-height:normal;font-family:Menlo,'DejaVu Sans Mono',consolas,'Courier New',monospace\">┏━━━━━━━━━━━━━━━━━━━━━━━━━━━━━━━━━┳━━━━━━━━━━━━━━━━━━━━━━━━┳━━━━━━━━━━━━━━━┓\n",
       "┃<span style=\"font-weight: bold\"> Layer (type)                    </span>┃<span style=\"font-weight: bold\"> Output Shape           </span>┃<span style=\"font-weight: bold\">       Param # </span>┃\n",
       "┡━━━━━━━━━━━━━━━━━━━━━━━━━━━━━━━━━╇━━━━━━━━━━━━━━━━━━━━━━━━╇━━━━━━━━━━━━━━━┩\n",
       "│ embedding_2 (<span style=\"color: #0087ff; text-decoration-color: #0087ff\">Embedding</span>)         │ (<span style=\"color: #00d7ff; text-decoration-color: #00d7ff\">None</span>, <span style=\"color: #00af00; text-decoration-color: #00af00\">500</span>, <span style=\"color: #00af00; text-decoration-color: #00af00\">128</span>)       │     <span style=\"color: #00af00; text-decoration-color: #00af00\">1,280,000</span> │\n",
       "├─────────────────────────────────┼────────────────────────┼───────────────┤\n",
       "│ simple_rnn_2 (<span style=\"color: #0087ff; text-decoration-color: #0087ff\">SimpleRNN</span>)        │ (<span style=\"color: #00d7ff; text-decoration-color: #00d7ff\">None</span>, <span style=\"color: #00af00; text-decoration-color: #00af00\">128</span>)            │        <span style=\"color: #00af00; text-decoration-color: #00af00\">32,896</span> │\n",
       "├─────────────────────────────────┼────────────────────────┼───────────────┤\n",
       "│ dense_1 (<span style=\"color: #0087ff; text-decoration-color: #0087ff\">Dense</span>)                 │ (<span style=\"color: #00d7ff; text-decoration-color: #00d7ff\">None</span>, <span style=\"color: #00af00; text-decoration-color: #00af00\">1</span>)              │           <span style=\"color: #00af00; text-decoration-color: #00af00\">129</span> │\n",
       "└─────────────────────────────────┴────────────────────────┴───────────────┘\n",
       "</pre>\n"
      ],
      "text/plain": [
       "┏━━━━━━━━━━━━━━━━━━━━━━━━━━━━━━━━━┳━━━━━━━━━━━━━━━━━━━━━━━━┳━━━━━━━━━━━━━━━┓\n",
       "┃\u001b[1m \u001b[0m\u001b[1mLayer (type)                   \u001b[0m\u001b[1m \u001b[0m┃\u001b[1m \u001b[0m\u001b[1mOutput Shape          \u001b[0m\u001b[1m \u001b[0m┃\u001b[1m \u001b[0m\u001b[1m      Param #\u001b[0m\u001b[1m \u001b[0m┃\n",
       "┡━━━━━━━━━━━━━━━━━━━━━━━━━━━━━━━━━╇━━━━━━━━━━━━━━━━━━━━━━━━╇━━━━━━━━━━━━━━━┩\n",
       "│ embedding_2 (\u001b[38;5;33mEmbedding\u001b[0m)         │ (\u001b[38;5;45mNone\u001b[0m, \u001b[38;5;34m500\u001b[0m, \u001b[38;5;34m128\u001b[0m)       │     \u001b[38;5;34m1,280,000\u001b[0m │\n",
       "├─────────────────────────────────┼────────────────────────┼───────────────┤\n",
       "│ simple_rnn_2 (\u001b[38;5;33mSimpleRNN\u001b[0m)        │ (\u001b[38;5;45mNone\u001b[0m, \u001b[38;5;34m128\u001b[0m)            │        \u001b[38;5;34m32,896\u001b[0m │\n",
       "├─────────────────────────────────┼────────────────────────┼───────────────┤\n",
       "│ dense_1 (\u001b[38;5;33mDense\u001b[0m)                 │ (\u001b[38;5;45mNone\u001b[0m, \u001b[38;5;34m1\u001b[0m)              │           \u001b[38;5;34m129\u001b[0m │\n",
       "└─────────────────────────────────┴────────────────────────┴───────────────┘\n"
      ]
     },
     "metadata": {},
     "output_type": "display_data"
    },
    {
     "data": {
      "text/html": [
       "<pre style=\"white-space:pre;overflow-x:auto;line-height:normal;font-family:Menlo,'DejaVu Sans Mono',consolas,'Courier New',monospace\"><span style=\"font-weight: bold\"> Total params: </span><span style=\"color: #00af00; text-decoration-color: #00af00\">1,313,027</span> (5.01 MB)\n",
       "</pre>\n"
      ],
      "text/plain": [
       "\u001b[1m Total params: \u001b[0m\u001b[38;5;34m1,313,027\u001b[0m (5.01 MB)\n"
      ]
     },
     "metadata": {},
     "output_type": "display_data"
    },
    {
     "data": {
      "text/html": [
       "<pre style=\"white-space:pre;overflow-x:auto;line-height:normal;font-family:Menlo,'DejaVu Sans Mono',consolas,'Courier New',monospace\"><span style=\"font-weight: bold\"> Trainable params: </span><span style=\"color: #00af00; text-decoration-color: #00af00\">1,313,025</span> (5.01 MB)\n",
       "</pre>\n"
      ],
      "text/plain": [
       "\u001b[1m Trainable params: \u001b[0m\u001b[38;5;34m1,313,025\u001b[0m (5.01 MB)\n"
      ]
     },
     "metadata": {},
     "output_type": "display_data"
    },
    {
     "data": {
      "text/html": [
       "<pre style=\"white-space:pre;overflow-x:auto;line-height:normal;font-family:Menlo,'DejaVu Sans Mono',consolas,'Courier New',monospace\"><span style=\"font-weight: bold\"> Non-trainable params: </span><span style=\"color: #00af00; text-decoration-color: #00af00\">0</span> (0.00 B)\n",
       "</pre>\n"
      ],
      "text/plain": [
       "\u001b[1m Non-trainable params: \u001b[0m\u001b[38;5;34m0\u001b[0m (0.00 B)\n"
      ]
     },
     "metadata": {},
     "output_type": "display_data"
    },
    {
     "data": {
      "text/html": [
       "<pre style=\"white-space:pre;overflow-x:auto;line-height:normal;font-family:Menlo,'DejaVu Sans Mono',consolas,'Courier New',monospace\"><span style=\"font-weight: bold\"> Optimizer params: </span><span style=\"color: #00af00; text-decoration-color: #00af00\">2</span> (12.00 B)\n",
       "</pre>\n"
      ],
      "text/plain": [
       "\u001b[1m Optimizer params: \u001b[0m\u001b[38;5;34m2\u001b[0m (12.00 B)\n"
      ]
     },
     "metadata": {},
     "output_type": "display_data"
    }
   ],
   "source": [
    "# load the pre-trained model with relu activation\n",
    "model = load_model('simple_rnn_model.h5')\n",
    "model.summary()"
   ]
  },
  {
   "cell_type": "code",
   "execution_count": 5,
   "id": "50aa6007",
   "metadata": {},
   "outputs": [
    {
     "data": {
      "text/plain": [
       "[array([[-0.00316469,  1.0175637 , -0.01748645, ..., -0.87933475,\n",
       "         -0.13032298,  0.9627796 ],\n",
       "        [ 0.05751388, -0.00435109, -0.05608658, ..., -0.05131773,\n",
       "         -0.03925268,  0.04255513],\n",
       "        [ 0.07335148, -0.01113016, -0.04250974, ..., -0.05878918,\n",
       "          0.06388551,  0.01218623],\n",
       "        ...,\n",
       "        [-0.00545181, -0.0145961 , -0.03502303, ...,  0.10701259,\n",
       "          0.10504062, -0.01682402],\n",
       "        [-0.08505087,  0.02024511,  0.10792651, ...,  0.01409909,\n",
       "         -0.07775065, -0.02682782],\n",
       "        [ 0.14797844, -0.08492727, -0.05406773, ...,  0.08931034,\n",
       "          0.09738193, -0.11214513]], dtype=float32),\n",
       " array([[-0.00211136,  0.07203277,  0.03972819, ..., -0.01266282,\n",
       "          0.02871021, -0.06857533],\n",
       "        [ 0.00293375,  0.11974852,  0.01854137, ..., -0.08426689,\n",
       "          0.11155977, -0.05480527],\n",
       "        [-0.01951998,  0.01388213, -0.0327126 , ..., -0.01533874,\n",
       "          0.01133692, -0.14048168],\n",
       "        ...,\n",
       "        [ 0.0192041 , -0.00023243, -0.05746543, ..., -0.09506466,\n",
       "          0.1063538 ,  0.03180423],\n",
       "        [-0.1278833 ,  0.13237524, -0.01457283, ..., -0.17051704,\n",
       "          0.08223186,  0.14191104],\n",
       "        [ 0.05683687, -0.00515668,  0.0429815 , ..., -0.12615661,\n",
       "         -0.15182224, -0.03233085]], dtype=float32),\n",
       " array([[-0.22158156,  0.03326998,  0.06814805, ..., -0.02571408,\n",
       "         -0.18799332,  0.1351506 ],\n",
       "        [ 0.0152013 ,  0.15463729, -0.02068193, ...,  0.06154097,\n",
       "          0.02609383,  0.11425582],\n",
       "        [-0.12421519,  0.0445642 ,  0.158552  , ...,  0.2002139 ,\n",
       "          0.07206083, -0.00844809],\n",
       "        ...,\n",
       "        [ 0.0919253 ,  0.00921817,  0.00938553, ...,  0.03572058,\n",
       "          0.01018671,  0.12788907],\n",
       "        [ 0.1195862 ,  0.01576502,  0.17991066, ...,  0.0052828 ,\n",
       "         -0.06112533,  0.02320478],\n",
       "        [ 0.04489295, -0.03570412,  0.0692121 , ..., -0.12252688,\n",
       "          0.04146453,  0.01936756]], dtype=float32),\n",
       " array([ 2.32341271e-02,  1.59044918e-02, -5.00675198e-03,  3.57670560e-02,\n",
       "        -7.42189470e-04, -4.95403744e-02,  2.15082280e-02,  3.44133787e-02,\n",
       "         5.85081615e-03,  2.52264775e-02, -3.55794355e-02,  2.07438343e-03,\n",
       "        -8.17876030e-03, -2.90412530e-02, -2.49101408e-02, -1.00776535e-02,\n",
       "         1.29280537e-02, -2.21591275e-02, -1.52503094e-02,  2.28693690e-02,\n",
       "         3.10703479e-02, -3.01810205e-02, -1.82993487e-02,  2.81110704e-02,\n",
       "        -2.98834853e-02,  7.76471663e-03,  2.66941935e-02, -3.99131663e-02,\n",
       "        -3.42500769e-02, -1.57192927e-02,  3.43557000e-02, -6.30432554e-03,\n",
       "        -1.38180740e-02,  8.09851941e-03,  3.63121629e-02, -1.53170247e-02,\n",
       "        -2.61222962e-02, -3.03984117e-02, -1.01315500e-02,  2.78761219e-02,\n",
       "         2.51004528e-02, -3.86259779e-02,  1.33822598e-02, -3.67482640e-02,\n",
       "         2.53159441e-02, -2.57104971e-02,  1.76162776e-02,  6.38736337e-02,\n",
       "        -1.86494440e-02, -2.12622504e-03, -3.68826501e-02,  1.58296954e-02,\n",
       "         1.65083352e-02, -1.71675477e-02, -1.95371211e-02,  2.31039859e-02,\n",
       "         1.47902006e-02,  2.46812869e-02, -1.18288537e-02,  2.48768739e-02,\n",
       "        -1.00374129e-03, -1.43035818e-02,  1.09556625e-02, -1.32886274e-02,\n",
       "        -4.66496404e-03, -3.44067067e-02, -2.38352045e-02, -3.00049335e-02,\n",
       "         1.58896931e-02, -3.28612402e-02, -2.23421808e-02,  3.56469192e-02,\n",
       "        -5.66558056e-02,  2.97662672e-02, -2.89543401e-02,  2.14391444e-02,\n",
       "        -1.20977275e-02, -2.40447726e-02,  2.76841912e-02, -7.22360937e-03,\n",
       "         4.91957925e-03, -5.74713200e-03, -3.90731394e-02,  2.11635306e-02,\n",
       "         2.20790152e-02,  1.79547165e-02, -2.02252921e-02, -2.61606602e-03,\n",
       "        -3.09862532e-02, -8.74953438e-03, -4.25531864e-02,  7.88051635e-03,\n",
       "        -1.28429169e-02, -2.88203582e-02,  2.88408995e-03,  2.07563527e-02,\n",
       "         3.67408618e-02, -1.10739311e-02, -3.05348597e-02, -3.55527066e-02,\n",
       "        -3.58360186e-02,  1.01897931e-02, -2.06575003e-02,  2.90673189e-02,\n",
       "        -5.64717222e-03, -3.39087732e-02, -7.02909310e-04, -3.18336822e-02,\n",
       "        -3.70866880e-02, -6.42215367e-03, -1.08227611e-03, -2.70145163e-02,\n",
       "        -4.83024269e-02, -2.44411025e-02, -3.24511435e-03, -1.19953733e-02,\n",
       "        -2.83979494e-02,  2.80160923e-02,  3.01350560e-03,  3.63642221e-06,\n",
       "        -1.29528670e-02,  2.83511309e-03,  6.14831364e-03,  1.09859593e-02,\n",
       "        -3.63354087e-02, -2.44679041e-02, -2.84110997e-02,  3.52720059e-02],\n",
       "       dtype=float32),\n",
       " array([[ 1.88419193e-01],\n",
       "        [-4.37476277e-01],\n",
       "        [-2.08043829e-01],\n",
       "        [ 2.07362831e-01],\n",
       "        [-1.57033429e-01],\n",
       "        [-1.08738773e-01],\n",
       "        [ 3.67051014e-03],\n",
       "        [-6.88810945e-02],\n",
       "        [-1.11382186e-01],\n",
       "        [-1.30387768e-01],\n",
       "        [-2.00171903e-01],\n",
       "        [ 1.13110334e-01],\n",
       "        [-1.06078163e-01],\n",
       "        [ 5.94650060e-02],\n",
       "        [-1.18782744e-01],\n",
       "        [-9.03091580e-02],\n",
       "        [ 1.22772127e-01],\n",
       "        [ 1.05808802e-01],\n",
       "        [ 8.75807628e-02],\n",
       "        [ 9.11422670e-02],\n",
       "        [-2.01941535e-01],\n",
       "        [-1.02352105e-01],\n",
       "        [-1.91450715e-01],\n",
       "        [ 5.86055405e-02],\n",
       "        [ 9.30565670e-02],\n",
       "        [ 1.42311797e-01],\n",
       "        [ 6.52821139e-02],\n",
       "        [-1.31965071e-01],\n",
       "        [ 4.13914286e-02],\n",
       "        [-3.18969488e-01],\n",
       "        [ 1.63469821e-01],\n",
       "        [-9.37714502e-02],\n",
       "        [-1.69356570e-01],\n",
       "        [-4.64535654e-02],\n",
       "        [ 1.11006752e-01],\n",
       "        [-1.35191604e-01],\n",
       "        [ 9.00899172e-02],\n",
       "        [-5.75860813e-02],\n",
       "        [-1.16823673e-01],\n",
       "        [-6.79496005e-02],\n",
       "        [ 2.03936577e-01],\n",
       "        [ 6.30651563e-02],\n",
       "        [-1.91780344e-01],\n",
       "        [ 5.58814928e-02],\n",
       "        [ 1.34738371e-01],\n",
       "        [-1.75353274e-01],\n",
       "        [-3.57849076e-02],\n",
       "        [-2.69987360e-02],\n",
       "        [-4.62252833e-02],\n",
       "        [-2.31897607e-01],\n",
       "        [ 4.10692627e-03],\n",
       "        [ 7.47744262e-01],\n",
       "        [ 7.75580332e-02],\n",
       "        [ 3.54577065e-01],\n",
       "        [-8.76610056e-02],\n",
       "        [ 7.85040930e-02],\n",
       "        [-2.01372191e-01],\n",
       "        [ 2.15696692e-01],\n",
       "        [-1.88286811e-01],\n",
       "        [ 4.44979593e-02],\n",
       "        [ 1.25268295e-01],\n",
       "        [ 1.50976896e-01],\n",
       "        [ 9.67062339e-02],\n",
       "        [-1.29340142e-01],\n",
       "        [ 1.12239754e+00],\n",
       "        [-4.46651988e-02],\n",
       "        [-4.19940427e-02],\n",
       "        [-1.64540365e-01],\n",
       "        [ 1.18512567e-02],\n",
       "        [-1.47393405e-01],\n",
       "        [ 1.39532080e-02],\n",
       "        [-1.38022397e-02],\n",
       "        [ 1.31627250e+00],\n",
       "        [ 9.12702903e-02],\n",
       "        [-6.87890723e-02],\n",
       "        [-2.21827105e-01],\n",
       "        [ 1.80843845e-01],\n",
       "        [-4.47309949e-02],\n",
       "        [-8.41556117e-03],\n",
       "        [-1.77708000e-01],\n",
       "        [ 2.51891222e-02],\n",
       "        [-1.00888222e-01],\n",
       "        [ 4.64948043e-02],\n",
       "        [-2.05931395e-01],\n",
       "        [ 1.75119773e-01],\n",
       "        [ 6.93413019e-01],\n",
       "        [-8.52962285e-02],\n",
       "        [-1.43589964e-02],\n",
       "        [-8.29956979e-02],\n",
       "        [-1.77389253e-02],\n",
       "        [-5.33414543e-01],\n",
       "        [ 6.64359331e-02],\n",
       "        [-3.60066593e-02],\n",
       "        [ 7.25759044e-02],\n",
       "        [-3.22180599e-01],\n",
       "        [ 1.11056760e-01],\n",
       "        [ 1.17454246e-01],\n",
       "        [ 4.61608805e-02],\n",
       "        [-5.98829925e-01],\n",
       "        [-1.17219396e-01],\n",
       "        [ 8.57431814e-02],\n",
       "        [ 2.24277094e-01],\n",
       "        [-1.46446154e-01],\n",
       "        [ 2.09700465e-01],\n",
       "        [-5.64133637e-02],\n",
       "        [ 5.55658787e-02],\n",
       "        [ 8.65028054e-02],\n",
       "        [-1.82612717e-01],\n",
       "        [-1.24572806e-01],\n",
       "        [ 2.05084383e-01],\n",
       "        [-2.59679139e-01],\n",
       "        [-2.32336044e-01],\n",
       "        [-7.43742511e-02],\n",
       "        [-1.84431151e-01],\n",
       "        [-8.05711597e-02],\n",
       "        [ 3.60765234e-02],\n",
       "        [-1.62906498e-01],\n",
       "        [ 3.77816632e-02],\n",
       "        [-1.85460582e-01],\n",
       "        [-5.82787454e-01],\n",
       "        [-1.14463121e-01],\n",
       "        [-1.82929546e-01],\n",
       "        [-1.62582710e-01],\n",
       "        [ 1.69914514e-02],\n",
       "        [ 6.97210943e-03],\n",
       "        [-2.10981760e-02],\n",
       "        [ 5.45530347e-04],\n",
       "        [ 5.58245964e-02]], dtype=float32),\n",
       " array([-0.9030716], dtype=float32)]"
      ]
     },
     "execution_count": 5,
     "metadata": {},
     "output_type": "execute_result"
    }
   ],
   "source": [
    "model.get_weights()"
   ]
  },
  {
   "cell_type": "code",
   "execution_count": 10,
   "id": "4756b8ce",
   "metadata": {},
   "outputs": [],
   "source": [
    "# step 2 : Helper function\n",
    "# Function to decode reviews\n",
    "def decode_review(encoded_review):\n",
    "    # Decode the review text\n",
    "    return ' '.join([reverse_word_index.get(i - 3, '?') for i in encoded_review])\n",
    "\n",
    "# Fuction to preprocess the input\n",
    "def preprocess_text(text):\n",
    "    words = text.lower().split()\n",
    "    encoded_review = [word_index.get(word, 2) + 3 for word in words]\n",
    "    # Pad the sequence to a fixed length\n",
    "    padded_review = sequence.pad_sequences([encoded_review], maxlen=500)\n",
    "    return padded_review"
   ]
  },
  {
   "cell_type": "code",
   "execution_count": 11,
   "id": "be9806d3",
   "metadata": {},
   "outputs": [],
   "source": [
    "# Prediction function\n",
    "def predict_sentiment(review):\n",
    "    preprocessed_input = preprocess_text(review)\n",
    "    prediction = model.predict(preprocessed_input)\n",
    "    sentiment = 'positive' if prediction[0][0] > 0.5 else 'negative'\n",
    "    return sentiment, prediction[0][0]"
   ]
  },
  {
   "cell_type": "code",
   "execution_count": 12,
   "id": "0888740b",
   "metadata": {},
   "outputs": [
    {
     "name": "stdout",
     "output_type": "stream",
     "text": [
      "\u001b[1m1/1\u001b[0m \u001b[32m━━━━━━━━━━━━━━━━━━━━\u001b[0m\u001b[37m\u001b[0m \u001b[1m1s\u001b[0m 707ms/step\n",
      "Review: The movie was fantastic! I loved it.\n",
      "Sentiment: positive\n",
      "Prediction Score: 0.8664179444313049\n"
     ]
    }
   ],
   "source": [
    "# Ensure the preprocess_text function is executed before running this cell\n",
    "## Example review for prediction\n",
    "example_review = \"The movie was fantastic! I loved it.\"\n",
    "sentiment, score = predict_sentiment(example_review)\n",
    "print(f\"Review: {example_review}\")\n",
    "print(f\"Sentiment: {sentiment}\")\n",
    "print(f\"Prediction Score: {score}\")\n"
   ]
  },
  {
   "cell_type": "code",
   "execution_count": null,
   "id": "2c1622e2",
   "metadata": {},
   "outputs": [],
   "source": []
  }
 ],
 "metadata": {
  "kernelspec": {
   "display_name": "Python 3",
   "language": "python",
   "name": "python3"
  },
  "language_info": {
   "codemirror_mode": {
    "name": "ipython",
    "version": 3
   },
   "file_extension": ".py",
   "mimetype": "text/x-python",
   "name": "python",
   "nbconvert_exporter": "python",
   "pygments_lexer": "ipython3",
   "version": "3.10.0"
  }
 },
 "nbformat": 4,
 "nbformat_minor": 5
}
