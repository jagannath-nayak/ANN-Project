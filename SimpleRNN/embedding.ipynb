{
 "cells": [
  {
   "cell_type": "code",
   "execution_count": 3,
   "metadata": {},
   "outputs": [],
   "source": [
    "from tensorflow.keras.preprocessing.text import one_hot"
   ]
  },
  {
   "cell_type": "code",
   "execution_count": 22,
   "metadata": {},
   "outputs": [
    {
     "name": "stdout",
     "output_type": "stream",
     "text": [
      "Requirement already satisfied: tensorflow in c:\\users\\asus\\desktop\\ann project\\venv\\lib\\site-packages (2.19.0)\n",
      "Requirement already satisfied: absl-py>=1.0.0 in c:\\users\\asus\\desktop\\ann project\\venv\\lib\\site-packages (from tensorflow) (2.2.0)\n",
      "Requirement already satisfied: astunparse>=1.6.0 in c:\\users\\asus\\desktop\\ann project\\venv\\lib\\site-packages (from tensorflow) (1.6.3)\n",
      "Requirement already satisfied: flatbuffers>=24.3.25 in c:\\users\\asus\\desktop\\ann project\\venv\\lib\\site-packages (from tensorflow) (25.2.10)\n",
      "Requirement already satisfied: gast!=0.5.0,!=0.5.1,!=0.5.2,>=0.2.1 in c:\\users\\asus\\desktop\\ann project\\venv\\lib\\site-packages (from tensorflow) (0.6.0)\n",
      "Requirement already satisfied: google-pasta>=0.1.1 in c:\\users\\asus\\desktop\\ann project\\venv\\lib\\site-packages (from tensorflow) (0.2.0)\n",
      "Requirement already satisfied: libclang>=13.0.0 in c:\\users\\asus\\desktop\\ann project\\venv\\lib\\site-packages (from tensorflow) (18.1.1)\n",
      "Requirement already satisfied: opt-einsum>=2.3.2 in c:\\users\\asus\\desktop\\ann project\\venv\\lib\\site-packages (from tensorflow) (3.4.0)\n",
      "Requirement already satisfied: packaging in c:\\users\\asus\\desktop\\ann project\\venv\\lib\\site-packages (from tensorflow) (24.2)\n",
      "Requirement already satisfied: protobuf!=4.21.0,!=4.21.1,!=4.21.2,!=4.21.3,!=4.21.4,!=4.21.5,<6.0.0dev,>=3.20.3 in c:\\users\\asus\\desktop\\ann project\\venv\\lib\\site-packages (from tensorflow) (5.29.4)\n",
      "Requirement already satisfied: requests<3,>=2.21.0 in c:\\users\\asus\\desktop\\ann project\\venv\\lib\\site-packages (from tensorflow) (2.32.3)\n",
      "Requirement already satisfied: setuptools in c:\\users\\asus\\desktop\\ann project\\venv\\lib\\site-packages (from tensorflow) (75.8.0)\n",
      "Requirement already satisfied: six>=1.12.0 in c:\\users\\asus\\desktop\\ann project\\venv\\lib\\site-packages (from tensorflow) (1.17.0)\n",
      "Requirement already satisfied: termcolor>=1.1.0 in c:\\users\\asus\\desktop\\ann project\\venv\\lib\\site-packages (from tensorflow) (2.5.0)\n",
      "Requirement already satisfied: typing-extensions>=3.6.6 in c:\\users\\asus\\desktop\\ann project\\venv\\lib\\site-packages (from tensorflow) (4.12.2)\n",
      "Requirement already satisfied: wrapt>=1.11.0 in c:\\users\\asus\\desktop\\ann project\\venv\\lib\\site-packages (from tensorflow) (1.17.2)\n",
      "Requirement already satisfied: grpcio<2.0,>=1.24.3 in c:\\users\\asus\\desktop\\ann project\\venv\\lib\\site-packages (from tensorflow) (1.71.0)\n",
      "Requirement already satisfied: tensorboard~=2.19.0 in c:\\users\\asus\\desktop\\ann project\\venv\\lib\\site-packages (from tensorflow) (2.19.0)\n",
      "Requirement already satisfied: keras>=3.5.0 in c:\\users\\asus\\desktop\\ann project\\venv\\lib\\site-packages (from tensorflow) (3.9.0)\n",
      "Requirement already satisfied: numpy<2.2.0,>=1.26.0 in c:\\users\\asus\\desktop\\ann project\\venv\\lib\\site-packages (from tensorflow) (2.1.3)\n",
      "Requirement already satisfied: h5py>=3.11.0 in c:\\users\\asus\\desktop\\ann project\\venv\\lib\\site-packages (from tensorflow) (3.13.0)\n",
      "Requirement already satisfied: ml-dtypes<1.0.0,>=0.5.1 in c:\\users\\asus\\desktop\\ann project\\venv\\lib\\site-packages (from tensorflow) (0.5.1)\n",
      "Requirement already satisfied: tensorflow-io-gcs-filesystem>=0.23.1 in c:\\users\\asus\\desktop\\ann project\\venv\\lib\\site-packages (from tensorflow) (0.31.0)\n",
      "Requirement already satisfied: wheel<1.0,>=0.23.0 in c:\\users\\asus\\desktop\\ann project\\venv\\lib\\site-packages (from astunparse>=1.6.0->tensorflow) (0.45.1)\n",
      "Requirement already satisfied: rich in c:\\users\\asus\\desktop\\ann project\\venv\\lib\\site-packages (from keras>=3.5.0->tensorflow) (13.9.4)\n",
      "Requirement already satisfied: namex in c:\\users\\asus\\desktop\\ann project\\venv\\lib\\site-packages (from keras>=3.5.0->tensorflow) (0.0.8)\n",
      "Requirement already satisfied: optree in c:\\users\\asus\\desktop\\ann project\\venv\\lib\\site-packages (from keras>=3.5.0->tensorflow) (0.14.1)\n",
      "Requirement already satisfied: charset-normalizer<4,>=2 in c:\\users\\asus\\desktop\\ann project\\venv\\lib\\site-packages (from requests<3,>=2.21.0->tensorflow) (3.4.1)\n",
      "Requirement already satisfied: idna<4,>=2.5 in c:\\users\\asus\\desktop\\ann project\\venv\\lib\\site-packages (from requests<3,>=2.21.0->tensorflow) (3.10)\n",
      "Requirement already satisfied: urllib3<3,>=1.21.1 in c:\\users\\asus\\desktop\\ann project\\venv\\lib\\site-packages (from requests<3,>=2.21.0->tensorflow) (2.3.0)\n",
      "Requirement already satisfied: certifi>=2017.4.17 in c:\\users\\asus\\desktop\\ann project\\venv\\lib\\site-packages (from requests<3,>=2.21.0->tensorflow) (2025.1.31)\n",
      "Requirement already satisfied: markdown>=2.6.8 in c:\\users\\asus\\desktop\\ann project\\venv\\lib\\site-packages (from tensorboard~=2.19.0->tensorflow) (3.7)\n",
      "Requirement already satisfied: tensorboard-data-server<0.8.0,>=0.7.0 in c:\\users\\asus\\desktop\\ann project\\venv\\lib\\site-packages (from tensorboard~=2.19.0->tensorflow) (0.7.2)\n",
      "Requirement already satisfied: werkzeug>=1.0.1 in c:\\users\\asus\\desktop\\ann project\\venv\\lib\\site-packages (from tensorboard~=2.19.0->tensorflow) (3.1.3)\n",
      "Requirement already satisfied: MarkupSafe>=2.1.1 in c:\\users\\asus\\desktop\\ann project\\venv\\lib\\site-packages (from werkzeug>=1.0.1->tensorboard~=2.19.0->tensorflow) (3.0.2)\n",
      "Requirement already satisfied: markdown-it-py>=2.2.0 in c:\\users\\asus\\desktop\\ann project\\venv\\lib\\site-packages (from rich->keras>=3.5.0->tensorflow) (3.0.0)\n",
      "Requirement already satisfied: pygments<3.0.0,>=2.13.0 in c:\\users\\asus\\desktop\\ann project\\venv\\lib\\site-packages (from rich->keras>=3.5.0->tensorflow) (2.19.1)\n",
      "Requirement already satisfied: mdurl~=0.1 in c:\\users\\asus\\desktop\\ann project\\venv\\lib\\site-packages (from markdown-it-py>=2.2.0->rich->keras>=3.5.0->tensorflow) (0.1.2)\n"
     ]
    }
   ],
   "source": [
    "!pip install tensorflow"
   ]
  },
  {
   "cell_type": "code",
   "execution_count": 4,
   "metadata": {},
   "outputs": [],
   "source": [
    "### sentences\n",
    "sent = [\n",
    "    'The quick brown fox jumps over the lazy dog',\n",
    "    'The quick brown fox jumps over the lazy dog again',\n",
    "    'the cup of tea'\n",
    "    'The cup of tea is hot',\n",
    "    'I am a good developer',\n",
    "    'I am a good developer and I am a good person',\n",
    "\n",
    "]"
   ]
  },
  {
   "cell_type": "code",
   "execution_count": 5,
   "metadata": {},
   "outputs": [
    {
     "data": {
      "text/plain": [
       "['The quick brown fox jumps over the lazy dog',\n",
       " 'The quick brown fox jumps over the lazy dog again',\n",
       " 'the cup of teaThe cup of tea is hot',\n",
       " 'I am a good developer',\n",
       " 'I am a good developer and I am a good person']"
      ]
     },
     "execution_count": 5,
     "metadata": {},
     "output_type": "execute_result"
    }
   ],
   "source": [
    "sent"
   ]
  },
  {
   "cell_type": "code",
   "execution_count": 6,
   "metadata": {},
   "outputs": [],
   "source": [
    "## define vocabulary size\n",
    "vocab_size = 10000"
   ]
  },
  {
   "cell_type": "code",
   "execution_count": 7,
   "metadata": {},
   "outputs": [
    {
     "name": "stdout",
     "output_type": "stream",
     "text": [
      "[[3212, 645, 1598, 8637, 6192, 705, 3212, 3289, 6628], [3212, 645, 1598, 8637, 6192, 705, 3212, 3289, 6628, 2508], [3212, 1854, 2203, 8006, 1854, 2203, 1502, 1405, 2605], [4088, 5417, 6139, 1775, 4668], [4088, 5417, 6139, 1775, 4668, 9895, 4088, 5417, 6139, 1775, 2492]]\n"
     ]
    }
   ],
   "source": [
    "## one hot representation\n",
    "one_hot_repr = [one_hot(words,vocab_size)for words in sent]\n",
    "print(one_hot_repr)"
   ]
  },
  {
   "cell_type": "code",
   "execution_count": null,
   "metadata": {},
   "outputs": [],
   "source": [
    "## word embedding representation\n",
    "from tensorflow.keras.layers import Embedding\n",
    "from tensorflow.keras.utils import pad_sequences\n",
    "from tensorflow.keras.models import Sequential\n",
    "import numpy as np\n"
   ]
  },
  {
   "cell_type": "code",
   "execution_count": 10,
   "metadata": {},
   "outputs": [
    {
     "name": "stdout",
     "output_type": "stream",
     "text": [
      "[[   0    0    0 3212  645 1598 8637 6192  705 3212 3289 6628]\n",
      " [   0    0 3212  645 1598 8637 6192  705 3212 3289 6628 2508]\n",
      " [   0    0    0 3212 1854 2203 8006 1854 2203 1502 1405 2605]\n",
      " [   0    0    0    0    0    0    0 4088 5417 6139 1775 4668]\n",
      " [   0 4088 5417 6139 1775 4668 9895 4088 5417 6139 1775 2492]]\n"
     ]
    }
   ],
   "source": [
    "sent_length = 12\n",
    "embedded_docs = pad_sequences(one_hot_repr,padding = 'pre', maxlen = sent_length)\n",
    "print(embedded_docs)"
   ]
  },
  {
   "cell_type": "code",
   "execution_count": 24,
   "metadata": {},
   "outputs": [],
   "source": [
    "## feature representation\n",
    "dim = 12\n",
    "model = Sequential()\n",
    "model.add(Embedding(vocab_size, dim, input_length = sent_length))\n",
    "model.compile('adam','mse')\n"
   ]
  },
  {
   "cell_type": "code",
   "execution_count": 25,
   "metadata": {},
   "outputs": [
    {
     "data": {
      "text/html": [
       "<pre style=\"white-space:pre;overflow-x:auto;line-height:normal;font-family:Menlo,'DejaVu Sans Mono',consolas,'Courier New',monospace\"><span style=\"font-weight: bold\">Model: \"sequential_5\"</span>\n",
       "</pre>\n"
      ],
      "text/plain": [
       "\u001b[1mModel: \"sequential_5\"\u001b[0m\n"
      ]
     },
     "metadata": {},
     "output_type": "display_data"
    },
    {
     "data": {
      "text/html": [
       "<pre style=\"white-space:pre;overflow-x:auto;line-height:normal;font-family:Menlo,'DejaVu Sans Mono',consolas,'Courier New',monospace\">┏━━━━━━━━━━━━━━━━━━━━━━━━━━━━━━━━━┳━━━━━━━━━━━━━━━━━━━━━━━━┳━━━━━━━━━━━━━━━┓\n",
       "┃<span style=\"font-weight: bold\"> Layer (type)                    </span>┃<span style=\"font-weight: bold\"> Output Shape           </span>┃<span style=\"font-weight: bold\">       Param # </span>┃\n",
       "┡━━━━━━━━━━━━━━━━━━━━━━━━━━━━━━━━━╇━━━━━━━━━━━━━━━━━━━━━━━━╇━━━━━━━━━━━━━━━┩\n",
       "│ embedding_5 (<span style=\"color: #0087ff; text-decoration-color: #0087ff\">Embedding</span>)         │ (<span style=\"color: #00d7ff; text-decoration-color: #00d7ff\">None</span>, <span style=\"color: #00af00; text-decoration-color: #00af00\">12</span>, <span style=\"color: #00af00; text-decoration-color: #00af00\">12</span>)         │       <span style=\"color: #00af00; text-decoration-color: #00af00\">120,000</span> │\n",
       "└─────────────────────────────────┴────────────────────────┴───────────────┘\n",
       "</pre>\n"
      ],
      "text/plain": [
       "┏━━━━━━━━━━━━━━━━━━━━━━━━━━━━━━━━━┳━━━━━━━━━━━━━━━━━━━━━━━━┳━━━━━━━━━━━━━━━┓\n",
       "┃\u001b[1m \u001b[0m\u001b[1mLayer (type)                   \u001b[0m\u001b[1m \u001b[0m┃\u001b[1m \u001b[0m\u001b[1mOutput Shape          \u001b[0m\u001b[1m \u001b[0m┃\u001b[1m \u001b[0m\u001b[1m      Param #\u001b[0m\u001b[1m \u001b[0m┃\n",
       "┡━━━━━━━━━━━━━━━━━━━━━━━━━━━━━━━━━╇━━━━━━━━━━━━━━━━━━━━━━━━╇━━━━━━━━━━━━━━━┩\n",
       "│ embedding_5 (\u001b[38;5;33mEmbedding\u001b[0m)         │ (\u001b[38;5;45mNone\u001b[0m, \u001b[38;5;34m12\u001b[0m, \u001b[38;5;34m12\u001b[0m)         │       \u001b[38;5;34m120,000\u001b[0m │\n",
       "└─────────────────────────────────┴────────────────────────┴───────────────┘\n"
      ]
     },
     "metadata": {},
     "output_type": "display_data"
    },
    {
     "data": {
      "text/html": [
       "<pre style=\"white-space:pre;overflow-x:auto;line-height:normal;font-family:Menlo,'DejaVu Sans Mono',consolas,'Courier New',monospace\"><span style=\"font-weight: bold\"> Total params: </span><span style=\"color: #00af00; text-decoration-color: #00af00\">120,000</span> (468.75 KB)\n",
       "</pre>\n"
      ],
      "text/plain": [
       "\u001b[1m Total params: \u001b[0m\u001b[38;5;34m120,000\u001b[0m (468.75 KB)\n"
      ]
     },
     "metadata": {},
     "output_type": "display_data"
    },
    {
     "data": {
      "text/html": [
       "<pre style=\"white-space:pre;overflow-x:auto;line-height:normal;font-family:Menlo,'DejaVu Sans Mono',consolas,'Courier New',monospace\"><span style=\"font-weight: bold\"> Trainable params: </span><span style=\"color: #00af00; text-decoration-color: #00af00\">120,000</span> (468.75 KB)\n",
       "</pre>\n"
      ],
      "text/plain": [
       "\u001b[1m Trainable params: \u001b[0m\u001b[38;5;34m120,000\u001b[0m (468.75 KB)\n"
      ]
     },
     "metadata": {},
     "output_type": "display_data"
    },
    {
     "data": {
      "text/html": [
       "<pre style=\"white-space:pre;overflow-x:auto;line-height:normal;font-family:Menlo,'DejaVu Sans Mono',consolas,'Courier New',monospace\"><span style=\"font-weight: bold\"> Non-trainable params: </span><span style=\"color: #00af00; text-decoration-color: #00af00\">0</span> (0.00 B)\n",
       "</pre>\n"
      ],
      "text/plain": [
       "\u001b[1m Non-trainable params: \u001b[0m\u001b[38;5;34m0\u001b[0m (0.00 B)\n"
      ]
     },
     "metadata": {},
     "output_type": "display_data"
    }
   ],
   "source": [
    "# Build the model by passing input data\n",
    "model.build(input_shape=(None, sent_length))\n",
    "\n",
    "# Print the model summary\n",
    "model.summary()"
   ]
  },
  {
   "cell_type": "code",
   "execution_count": 26,
   "metadata": {},
   "outputs": [
    {
     "data": {
      "text/html": [
       "<pre style=\"white-space:pre;overflow-x:auto;line-height:normal;font-family:Menlo,'DejaVu Sans Mono',consolas,'Courier New',monospace\"><span style=\"font-weight: bold\">Model: \"sequential_5\"</span>\n",
       "</pre>\n"
      ],
      "text/plain": [
       "\u001b[1mModel: \"sequential_5\"\u001b[0m\n"
      ]
     },
     "metadata": {},
     "output_type": "display_data"
    },
    {
     "data": {
      "text/html": [
       "<pre style=\"white-space:pre;overflow-x:auto;line-height:normal;font-family:Menlo,'DejaVu Sans Mono',consolas,'Courier New',monospace\">┏━━━━━━━━━━━━━━━━━━━━━━━━━━━━━━━━━┳━━━━━━━━━━━━━━━━━━━━━━━━┳━━━━━━━━━━━━━━━┓\n",
       "┃<span style=\"font-weight: bold\"> Layer (type)                    </span>┃<span style=\"font-weight: bold\"> Output Shape           </span>┃<span style=\"font-weight: bold\">       Param # </span>┃\n",
       "┡━━━━━━━━━━━━━━━━━━━━━━━━━━━━━━━━━╇━━━━━━━━━━━━━━━━━━━━━━━━╇━━━━━━━━━━━━━━━┩\n",
       "│ embedding_5 (<span style=\"color: #0087ff; text-decoration-color: #0087ff\">Embedding</span>)         │ (<span style=\"color: #00d7ff; text-decoration-color: #00d7ff\">None</span>, <span style=\"color: #00af00; text-decoration-color: #00af00\">12</span>, <span style=\"color: #00af00; text-decoration-color: #00af00\">12</span>)         │       <span style=\"color: #00af00; text-decoration-color: #00af00\">120,000</span> │\n",
       "└─────────────────────────────────┴────────────────────────┴───────────────┘\n",
       "</pre>\n"
      ],
      "text/plain": [
       "┏━━━━━━━━━━━━━━━━━━━━━━━━━━━━━━━━━┳━━━━━━━━━━━━━━━━━━━━━━━━┳━━━━━━━━━━━━━━━┓\n",
       "┃\u001b[1m \u001b[0m\u001b[1mLayer (type)                   \u001b[0m\u001b[1m \u001b[0m┃\u001b[1m \u001b[0m\u001b[1mOutput Shape          \u001b[0m\u001b[1m \u001b[0m┃\u001b[1m \u001b[0m\u001b[1m      Param #\u001b[0m\u001b[1m \u001b[0m┃\n",
       "┡━━━━━━━━━━━━━━━━━━━━━━━━━━━━━━━━━╇━━━━━━━━━━━━━━━━━━━━━━━━╇━━━━━━━━━━━━━━━┩\n",
       "│ embedding_5 (\u001b[38;5;33mEmbedding\u001b[0m)         │ (\u001b[38;5;45mNone\u001b[0m, \u001b[38;5;34m12\u001b[0m, \u001b[38;5;34m12\u001b[0m)         │       \u001b[38;5;34m120,000\u001b[0m │\n",
       "└─────────────────────────────────┴────────────────────────┴───────────────┘\n"
      ]
     },
     "metadata": {},
     "output_type": "display_data"
    },
    {
     "data": {
      "text/html": [
       "<pre style=\"white-space:pre;overflow-x:auto;line-height:normal;font-family:Menlo,'DejaVu Sans Mono',consolas,'Courier New',monospace\"><span style=\"font-weight: bold\"> Total params: </span><span style=\"color: #00af00; text-decoration-color: #00af00\">120,000</span> (468.75 KB)\n",
       "</pre>\n"
      ],
      "text/plain": [
       "\u001b[1m Total params: \u001b[0m\u001b[38;5;34m120,000\u001b[0m (468.75 KB)\n"
      ]
     },
     "metadata": {},
     "output_type": "display_data"
    },
    {
     "data": {
      "text/html": [
       "<pre style=\"white-space:pre;overflow-x:auto;line-height:normal;font-family:Menlo,'DejaVu Sans Mono',consolas,'Courier New',monospace\"><span style=\"font-weight: bold\"> Trainable params: </span><span style=\"color: #00af00; text-decoration-color: #00af00\">120,000</span> (468.75 KB)\n",
       "</pre>\n"
      ],
      "text/plain": [
       "\u001b[1m Trainable params: \u001b[0m\u001b[38;5;34m120,000\u001b[0m (468.75 KB)\n"
      ]
     },
     "metadata": {},
     "output_type": "display_data"
    },
    {
     "data": {
      "text/html": [
       "<pre style=\"white-space:pre;overflow-x:auto;line-height:normal;font-family:Menlo,'DejaVu Sans Mono',consolas,'Courier New',monospace\"><span style=\"font-weight: bold\"> Non-trainable params: </span><span style=\"color: #00af00; text-decoration-color: #00af00\">0</span> (0.00 B)\n",
       "</pre>\n"
      ],
      "text/plain": [
       "\u001b[1m Non-trainable params: \u001b[0m\u001b[38;5;34m0\u001b[0m (0.00 B)\n"
      ]
     },
     "metadata": {},
     "output_type": "display_data"
    }
   ],
   "source": [
    "model.summary()"
   ]
  },
  {
   "cell_type": "code",
   "execution_count": 27,
   "metadata": {},
   "outputs": [
    {
     "name": "stdout",
     "output_type": "stream",
     "text": [
      "\u001b[1m1/1\u001b[0m \u001b[32m━━━━━━━━━━━━━━━━━━━━\u001b[0m\u001b[37m\u001b[0m \u001b[1m0s\u001b[0m 495ms/step\n"
     ]
    },
    {
     "data": {
      "text/plain": [
       "array([[[-6.2545761e-03,  4.8852634e-02, -2.4784327e-02,  2.7212929e-02,\n",
       "         -4.3420684e-02,  6.6311955e-03, -5.7796612e-03,  1.3052598e-03,\n",
       "         -3.7974190e-02, -2.4471868e-02,  5.2367449e-03,  1.6301695e-02],\n",
       "        [-6.2545761e-03,  4.8852634e-02, -2.4784327e-02,  2.7212929e-02,\n",
       "         -4.3420684e-02,  6.6311955e-03, -5.7796612e-03,  1.3052598e-03,\n",
       "         -3.7974190e-02, -2.4471868e-02,  5.2367449e-03,  1.6301695e-02],\n",
       "        [-6.2545761e-03,  4.8852634e-02, -2.4784327e-02,  2.7212929e-02,\n",
       "         -4.3420684e-02,  6.6311955e-03, -5.7796612e-03,  1.3052598e-03,\n",
       "         -3.7974190e-02, -2.4471868e-02,  5.2367449e-03,  1.6301695e-02],\n",
       "        [ 3.9082740e-02,  3.3581976e-02,  2.8862145e-02, -1.5569508e-02,\n",
       "          2.7238097e-02, -9.3583241e-03, -2.7926851e-02,  1.7526831e-02,\n",
       "         -3.2274142e-02,  3.5632420e-02, -2.1595443e-02,  4.5294467e-02],\n",
       "        [-6.5803640e-03,  1.8651757e-02, -9.1457590e-03,  6.5107569e-03,\n",
       "          4.1061308e-02,  1.2301732e-02, -1.9861056e-02, -1.8330537e-02,\n",
       "         -1.3709150e-02, -4.7243010e-02, -3.2318942e-03, -3.4896553e-02],\n",
       "        [ 4.5556340e-02,  4.4757333e-02,  3.7891157e-03,  4.5380902e-02,\n",
       "          4.7779206e-02, -3.8490653e-02,  4.1331712e-02,  3.6380295e-02,\n",
       "          4.4107605e-02,  2.8033141e-02, -4.6606101e-02,  3.4695100e-02],\n",
       "        [ 4.9872171e-02,  6.8822280e-03, -2.6110161e-02, -4.7855269e-02,\n",
       "         -2.7908528e-02,  1.4224324e-02, -3.2907009e-02,  1.3277698e-02,\n",
       "         -7.2604790e-03, -4.6489131e-02, -3.2383323e-02,  3.3913303e-02],\n",
       "        [-4.9757600e-02,  1.5407052e-02, -2.0449078e-02, -1.6069889e-02,\n",
       "          2.0427000e-02,  2.2334084e-03,  2.5580656e-02,  1.6518626e-02,\n",
       "         -2.5820816e-02,  2.3555759e-02,  2.1344993e-02,  4.4092249e-02],\n",
       "        [ 2.0999406e-02,  3.7452053e-02,  2.1143828e-02,  3.1547312e-02,\n",
       "          3.2437444e-03, -6.1179511e-03, -1.9801617e-02, -4.3398142e-02,\n",
       "          8.2763806e-03,  4.5870449e-02, -4.1527368e-02,  2.8954890e-02],\n",
       "        [ 3.9082740e-02,  3.3581976e-02,  2.8862145e-02, -1.5569508e-02,\n",
       "          2.7238097e-02, -9.3583241e-03, -2.7926851e-02,  1.7526831e-02,\n",
       "         -3.2274142e-02,  3.5632420e-02, -2.1595443e-02,  4.5294467e-02],\n",
       "        [ 9.9757090e-03, -3.6953054e-02, -4.4168640e-02, -2.3899674e-02,\n",
       "          4.7330867e-02,  7.7091455e-03, -3.1082058e-02,  4.6833660e-02,\n",
       "          6.2234029e-03, -2.1458639e-02, -2.8745985e-02, -3.7036359e-02],\n",
       "        [ 1.5306782e-02, -3.1177962e-02,  9.6013322e-03, -3.0411137e-02,\n",
       "         -1.1011135e-02, -1.1009265e-02,  3.5747718e-02,  1.8383767e-02,\n",
       "          2.6839230e-02, -2.6327658e-02, -3.5057068e-03, -2.3397481e-02]],\n",
       "\n",
       "       [[-6.2545761e-03,  4.8852634e-02, -2.4784327e-02,  2.7212929e-02,\n",
       "         -4.3420684e-02,  6.6311955e-03, -5.7796612e-03,  1.3052598e-03,\n",
       "         -3.7974190e-02, -2.4471868e-02,  5.2367449e-03,  1.6301695e-02],\n",
       "        [-6.2545761e-03,  4.8852634e-02, -2.4784327e-02,  2.7212929e-02,\n",
       "         -4.3420684e-02,  6.6311955e-03, -5.7796612e-03,  1.3052598e-03,\n",
       "         -3.7974190e-02, -2.4471868e-02,  5.2367449e-03,  1.6301695e-02],\n",
       "        [ 3.9082740e-02,  3.3581976e-02,  2.8862145e-02, -1.5569508e-02,\n",
       "          2.7238097e-02, -9.3583241e-03, -2.7926851e-02,  1.7526831e-02,\n",
       "         -3.2274142e-02,  3.5632420e-02, -2.1595443e-02,  4.5294467e-02],\n",
       "        [-6.5803640e-03,  1.8651757e-02, -9.1457590e-03,  6.5107569e-03,\n",
       "          4.1061308e-02,  1.2301732e-02, -1.9861056e-02, -1.8330537e-02,\n",
       "         -1.3709150e-02, -4.7243010e-02, -3.2318942e-03, -3.4896553e-02],\n",
       "        [ 4.5556340e-02,  4.4757333e-02,  3.7891157e-03,  4.5380902e-02,\n",
       "          4.7779206e-02, -3.8490653e-02,  4.1331712e-02,  3.6380295e-02,\n",
       "          4.4107605e-02,  2.8033141e-02, -4.6606101e-02,  3.4695100e-02],\n",
       "        [ 4.9872171e-02,  6.8822280e-03, -2.6110161e-02, -4.7855269e-02,\n",
       "         -2.7908528e-02,  1.4224324e-02, -3.2907009e-02,  1.3277698e-02,\n",
       "         -7.2604790e-03, -4.6489131e-02, -3.2383323e-02,  3.3913303e-02],\n",
       "        [-4.9757600e-02,  1.5407052e-02, -2.0449078e-02, -1.6069889e-02,\n",
       "          2.0427000e-02,  2.2334084e-03,  2.5580656e-02,  1.6518626e-02,\n",
       "         -2.5820816e-02,  2.3555759e-02,  2.1344993e-02,  4.4092249e-02],\n",
       "        [ 2.0999406e-02,  3.7452053e-02,  2.1143828e-02,  3.1547312e-02,\n",
       "          3.2437444e-03, -6.1179511e-03, -1.9801617e-02, -4.3398142e-02,\n",
       "          8.2763806e-03,  4.5870449e-02, -4.1527368e-02,  2.8954890e-02],\n",
       "        [ 3.9082740e-02,  3.3581976e-02,  2.8862145e-02, -1.5569508e-02,\n",
       "          2.7238097e-02, -9.3583241e-03, -2.7926851e-02,  1.7526831e-02,\n",
       "         -3.2274142e-02,  3.5632420e-02, -2.1595443e-02,  4.5294467e-02],\n",
       "        [ 9.9757090e-03, -3.6953054e-02, -4.4168640e-02, -2.3899674e-02,\n",
       "          4.7330867e-02,  7.7091455e-03, -3.1082058e-02,  4.6833660e-02,\n",
       "          6.2234029e-03, -2.1458639e-02, -2.8745985e-02, -3.7036359e-02],\n",
       "        [ 1.5306782e-02, -3.1177962e-02,  9.6013322e-03, -3.0411137e-02,\n",
       "         -1.1011135e-02, -1.1009265e-02,  3.5747718e-02,  1.8383767e-02,\n",
       "          2.6839230e-02, -2.6327658e-02, -3.5057068e-03, -2.3397481e-02],\n",
       "        [-4.9402036e-02,  1.0645449e-02, -1.6072512e-02, -2.1933127e-02,\n",
       "          3.1730533e-03,  4.7181621e-03,  4.6447244e-02, -3.1607509e-02,\n",
       "          1.9948911e-02, -2.0966161e-02, -3.9547611e-02, -2.1625340e-02]],\n",
       "\n",
       "       [[-6.2545761e-03,  4.8852634e-02, -2.4784327e-02,  2.7212929e-02,\n",
       "         -4.3420684e-02,  6.6311955e-03, -5.7796612e-03,  1.3052598e-03,\n",
       "         -3.7974190e-02, -2.4471868e-02,  5.2367449e-03,  1.6301695e-02],\n",
       "        [-6.2545761e-03,  4.8852634e-02, -2.4784327e-02,  2.7212929e-02,\n",
       "         -4.3420684e-02,  6.6311955e-03, -5.7796612e-03,  1.3052598e-03,\n",
       "         -3.7974190e-02, -2.4471868e-02,  5.2367449e-03,  1.6301695e-02],\n",
       "        [-6.2545761e-03,  4.8852634e-02, -2.4784327e-02,  2.7212929e-02,\n",
       "         -4.3420684e-02,  6.6311955e-03, -5.7796612e-03,  1.3052598e-03,\n",
       "         -3.7974190e-02, -2.4471868e-02,  5.2367449e-03,  1.6301695e-02],\n",
       "        [ 3.9082740e-02,  3.3581976e-02,  2.8862145e-02, -1.5569508e-02,\n",
       "          2.7238097e-02, -9.3583241e-03, -2.7926851e-02,  1.7526831e-02,\n",
       "         -3.2274142e-02,  3.5632420e-02, -2.1595443e-02,  4.5294467e-02],\n",
       "        [ 1.9410554e-02,  8.8149793e-03, -1.9744350e-02,  5.5614822e-03,\n",
       "          4.1749328e-04,  3.3699598e-02, -2.9368028e-03, -1.9768823e-02,\n",
       "         -9.4917640e-03, -2.0950401e-02,  1.4822487e-02,  4.8868965e-02],\n",
       "        [ 4.5479145e-02,  2.5747705e-02, -6.5896884e-03, -4.4920553e-02,\n",
       "          4.4857863e-02, -3.6045708e-02, -9.9081881e-03, -1.4450215e-02,\n",
       "          2.6179049e-02,  4.5194626e-03,  1.3004389e-02, -2.5328053e-02],\n",
       "        [ 2.5198642e-02, -9.6037276e-03,  1.1317860e-02,  1.1707712e-02,\n",
       "          1.5989054e-02,  1.4700223e-02,  1.3059188e-02, -3.4055211e-02,\n",
       "         -3.1815432e-02,  3.5285477e-02, -4.2665876e-02,  2.5957335e-02],\n",
       "        [ 1.9410554e-02,  8.8149793e-03, -1.9744350e-02,  5.5614822e-03,\n",
       "          4.1749328e-04,  3.3699598e-02, -2.9368028e-03, -1.9768823e-02,\n",
       "         -9.4917640e-03, -2.0950401e-02,  1.4822487e-02,  4.8868965e-02],\n",
       "        [ 4.5479145e-02,  2.5747705e-02, -6.5896884e-03, -4.4920553e-02,\n",
       "          4.4857863e-02, -3.6045708e-02, -9.9081881e-03, -1.4450215e-02,\n",
       "          2.6179049e-02,  4.5194626e-03,  1.3004389e-02, -2.5328053e-02],\n",
       "        [-1.6947854e-02, -2.3099899e-02, -9.5313191e-03, -3.1204283e-02,\n",
       "         -1.0407973e-02,  2.8416030e-03, -7.1119517e-05,  1.7911602e-02,\n",
       "         -3.0343747e-02,  4.8558239e-02, -1.6382001e-02,  2.5381539e-02],\n",
       "        [-2.9350147e-03, -3.1638108e-02,  8.1222877e-03, -8.9104995e-03,\n",
       "         -2.6133586e-02,  2.4010647e-02,  2.2505332e-02,  4.2386238e-02,\n",
       "          1.3773274e-02,  4.6106759e-02, -2.6439680e-02, -1.6374744e-02],\n",
       "        [ 1.6549323e-02, -3.8554598e-02, -9.1935396e-03, -2.2307981e-02,\n",
       "         -4.0785588e-02,  9.1917738e-03,  2.5767233e-02,  1.0602128e-02,\n",
       "         -4.2788364e-02, -3.3730198e-02, -2.1579469e-02,  4.5914795e-02]],\n",
       "\n",
       "       [[-6.2545761e-03,  4.8852634e-02, -2.4784327e-02,  2.7212929e-02,\n",
       "         -4.3420684e-02,  6.6311955e-03, -5.7796612e-03,  1.3052598e-03,\n",
       "         -3.7974190e-02, -2.4471868e-02,  5.2367449e-03,  1.6301695e-02],\n",
       "        [-6.2545761e-03,  4.8852634e-02, -2.4784327e-02,  2.7212929e-02,\n",
       "         -4.3420684e-02,  6.6311955e-03, -5.7796612e-03,  1.3052598e-03,\n",
       "         -3.7974190e-02, -2.4471868e-02,  5.2367449e-03,  1.6301695e-02],\n",
       "        [-6.2545761e-03,  4.8852634e-02, -2.4784327e-02,  2.7212929e-02,\n",
       "         -4.3420684e-02,  6.6311955e-03, -5.7796612e-03,  1.3052598e-03,\n",
       "         -3.7974190e-02, -2.4471868e-02,  5.2367449e-03,  1.6301695e-02],\n",
       "        [-6.2545761e-03,  4.8852634e-02, -2.4784327e-02,  2.7212929e-02,\n",
       "         -4.3420684e-02,  6.6311955e-03, -5.7796612e-03,  1.3052598e-03,\n",
       "         -3.7974190e-02, -2.4471868e-02,  5.2367449e-03,  1.6301695e-02],\n",
       "        [-6.2545761e-03,  4.8852634e-02, -2.4784327e-02,  2.7212929e-02,\n",
       "         -4.3420684e-02,  6.6311955e-03, -5.7796612e-03,  1.3052598e-03,\n",
       "         -3.7974190e-02, -2.4471868e-02,  5.2367449e-03,  1.6301695e-02],\n",
       "        [-6.2545761e-03,  4.8852634e-02, -2.4784327e-02,  2.7212929e-02,\n",
       "         -4.3420684e-02,  6.6311955e-03, -5.7796612e-03,  1.3052598e-03,\n",
       "         -3.7974190e-02, -2.4471868e-02,  5.2367449e-03,  1.6301695e-02],\n",
       "        [-6.2545761e-03,  4.8852634e-02, -2.4784327e-02,  2.7212929e-02,\n",
       "         -4.3420684e-02,  6.6311955e-03, -5.7796612e-03,  1.3052598e-03,\n",
       "         -3.7974190e-02, -2.4471868e-02,  5.2367449e-03,  1.6301695e-02],\n",
       "        [-3.1251658e-02, -1.4156364e-02,  3.1810608e-02,  1.5508283e-02,\n",
       "         -4.3595672e-02, -1.5838519e-03,  3.0304972e-02, -4.9122978e-02,\n",
       "          2.6004616e-02,  4.2452637e-02, -8.1337579e-03,  5.0795302e-03],\n",
       "        [-5.5725686e-03,  1.9180704e-02, -4.5275807e-02,  4.9331013e-02,\n",
       "          4.3538403e-02, -3.0603005e-02, -3.1474520e-02,  2.6841376e-02,\n",
       "         -4.2895626e-02, -4.3656506e-02,  4.4673037e-02, -3.0352497e-02],\n",
       "        [ 2.9398743e-02,  3.5073910e-02, -2.2632230e-02,  1.8130433e-02,\n",
       "         -9.3967542e-03,  4.2575922e-02, -4.1774917e-02, -2.3581577e-02,\n",
       "         -1.6339622e-02,  1.9073609e-02,  4.3066144e-03, -1.3291370e-02],\n",
       "        [ 1.0048520e-02, -4.3807831e-02, -4.2109072e-02,  3.0547891e-02,\n",
       "          2.0625107e-03,  1.9656446e-02, -2.5957514e-02, -6.1369762e-03,\n",
       "          3.9297938e-03,  9.8859146e-04,  3.0107010e-02, -5.0708279e-03],\n",
       "        [-6.4204335e-03,  1.9656871e-02, -2.8291121e-03,  3.9946128e-02,\n",
       "          4.1150335e-02, -4.9649991e-02,  2.7205314e-02, -2.0294344e-02,\n",
       "          5.9587881e-04,  2.0224564e-03,  4.8914853e-02,  3.0041326e-02]],\n",
       "\n",
       "       [[-6.2545761e-03,  4.8852634e-02, -2.4784327e-02,  2.7212929e-02,\n",
       "         -4.3420684e-02,  6.6311955e-03, -5.7796612e-03,  1.3052598e-03,\n",
       "         -3.7974190e-02, -2.4471868e-02,  5.2367449e-03,  1.6301695e-02],\n",
       "        [-3.1251658e-02, -1.4156364e-02,  3.1810608e-02,  1.5508283e-02,\n",
       "         -4.3595672e-02, -1.5838519e-03,  3.0304972e-02, -4.9122978e-02,\n",
       "          2.6004616e-02,  4.2452637e-02, -8.1337579e-03,  5.0795302e-03],\n",
       "        [-5.5725686e-03,  1.9180704e-02, -4.5275807e-02,  4.9331013e-02,\n",
       "          4.3538403e-02, -3.0603005e-02, -3.1474520e-02,  2.6841376e-02,\n",
       "         -4.2895626e-02, -4.3656506e-02,  4.4673037e-02, -3.0352497e-02],\n",
       "        [ 2.9398743e-02,  3.5073910e-02, -2.2632230e-02,  1.8130433e-02,\n",
       "         -9.3967542e-03,  4.2575922e-02, -4.1774917e-02, -2.3581577e-02,\n",
       "         -1.6339622e-02,  1.9073609e-02,  4.3066144e-03, -1.3291370e-02],\n",
       "        [ 1.0048520e-02, -4.3807831e-02, -4.2109072e-02,  3.0547891e-02,\n",
       "          2.0625107e-03,  1.9656446e-02, -2.5957514e-02, -6.1369762e-03,\n",
       "          3.9297938e-03,  9.8859146e-04,  3.0107010e-02, -5.0708279e-03],\n",
       "        [-6.4204335e-03,  1.9656871e-02, -2.8291121e-03,  3.9946128e-02,\n",
       "          4.1150335e-02, -4.9649991e-02,  2.7205314e-02, -2.0294344e-02,\n",
       "          5.9587881e-04,  2.0224564e-03,  4.8914853e-02,  3.0041326e-02],\n",
       "        [ 2.0941246e-02,  1.7947022e-02, -2.5580382e-02, -3.0770708e-02,\n",
       "         -1.9169761e-02,  1.2759019e-02,  4.0655065e-02,  5.0916784e-03,\n",
       "          3.0942727e-02, -3.0104935e-02, -1.7756797e-02,  3.5141204e-02],\n",
       "        [-3.1251658e-02, -1.4156364e-02,  3.1810608e-02,  1.5508283e-02,\n",
       "         -4.3595672e-02, -1.5838519e-03,  3.0304972e-02, -4.9122978e-02,\n",
       "          2.6004616e-02,  4.2452637e-02, -8.1337579e-03,  5.0795302e-03],\n",
       "        [-5.5725686e-03,  1.9180704e-02, -4.5275807e-02,  4.9331013e-02,\n",
       "          4.3538403e-02, -3.0603005e-02, -3.1474520e-02,  2.6841376e-02,\n",
       "         -4.2895626e-02, -4.3656506e-02,  4.4673037e-02, -3.0352497e-02],\n",
       "        [ 2.9398743e-02,  3.5073910e-02, -2.2632230e-02,  1.8130433e-02,\n",
       "         -9.3967542e-03,  4.2575922e-02, -4.1774917e-02, -2.3581577e-02,\n",
       "         -1.6339622e-02,  1.9073609e-02,  4.3066144e-03, -1.3291370e-02],\n",
       "        [ 1.0048520e-02, -4.3807831e-02, -4.2109072e-02,  3.0547891e-02,\n",
       "          2.0625107e-03,  1.9656446e-02, -2.5957514e-02, -6.1369762e-03,\n",
       "          3.9297938e-03,  9.8859146e-04,  3.0107010e-02, -5.0708279e-03],\n",
       "        [ 4.8927497e-02,  2.9882479e-02, -3.4961153e-02, -4.7540653e-02,\n",
       "         -1.8202592e-02, -6.4449795e-03, -3.7118040e-02,  3.3646736e-02,\n",
       "          2.4606574e-02,  4.1618459e-03,  3.6828518e-03,  1.5687827e-02]]],\n",
       "      dtype=float32)"
      ]
     },
     "execution_count": 27,
     "metadata": {},
     "output_type": "execute_result"
    }
   ],
   "source": [
    "model.predict(embedded_docs)"
   ]
  },
  {
   "cell_type": "code",
   "execution_count": null,
   "metadata": {},
   "outputs": [],
   "source": []
  }
 ],
 "metadata": {
  "kernelspec": {
   "display_name": "Python 3",
   "language": "python",
   "name": "python3"
  },
  "language_info": {
   "codemirror_mode": {
    "name": "ipython",
    "version": 3
   },
   "file_extension": ".py",
   "mimetype": "text/x-python",
   "name": "python",
   "nbconvert_exporter": "python",
   "pygments_lexer": "ipython3",
   "version": "3.10.0"
  }
 },
 "nbformat": 4,
 "nbformat_minor": 2
}
